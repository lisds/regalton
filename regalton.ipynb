{
 "cells": [
  {
   "cell_type": "markdown",
   "id": "5be15ec9",
   "metadata": {},
   "source": [
    "# Re-Galtoning"
   ]
  },
  {
   "cell_type": "code",
   "execution_count": null,
   "id": "df0a573c",
   "metadata": {},
   "outputs": [],
   "source": [
    "# Don't change this cell; just run it.\n",
    "import numpy as np  # The array library.\n",
    "import pandas as pd\n",
    "# Safe setting for Pandas.  Needs Pandas version >= 1.5.\n",
    "pd.set_option('mode.copy_on_write', True)\n",
    "\n",
    "# These lines load the tests.\n",
    "from client.api.notebook import Notebook\n",
    "ok = Notebook('regalton.ok')"
   ]
  },
  {
   "cell_type": "markdown",
   "id": "68430e94",
   "metadata": {},
   "source": [
    "In this exercise, you will very likely find yourselves using\n",
    "\n",
    "* [groupby](/useful-pandas/groupby)\n",
    "* [merge](/useful-pandas/merge)\n",
    "\n",
    "as well as some of your other Pandas skills."
   ]
  },
  {
   "cell_type": "markdown",
   "id": "2b9e464c",
   "metadata": {},
   "source": [
    "## The data\n",
    "\n",
    "The data for your task relates to a very famous paper by [Francis\n",
    "Galton](https://en.wikipedia.org/wiki/Francis_Galton), published in 1886.\n",
    "Galton was an extraordinarily versatile scientist who laid the groundwork for\n",
    "early statistics, and particularly regression and correlation.  The paper we\n",
    "are interested in here is:\n",
    "\n",
    "> Galton, F. (1886). [Regression Towards Mediocrity in Hereditary Stature](\n",
    "https://galton.org/essays/1880-1889/galton-1886-jaigi-regression-stature.pdf)\n",
    "Journal of the Anthropological Institute, 15, 246-263\n",
    "\n",
    "In fact, this paper is the origin of the term *regression* for fitting\n",
    "prediction lines to data.\n",
    "\n",
    "Galton was a keen eugenicist, and was very interested in inheritance.  In this\n",
    "case he studied the relationship of children's heights to the heights of their\n",
    "parents.\n",
    "\n",
    "Galton asked families to give him data about:\n",
    "\n",
    "* The father's height\n",
    "* The mother's height\n",
    "* The height and gender of each adult child in the family.\n",
    "\n",
    "You can read more about the data files at the [Galton heights datasets\n",
    "page](https://github.com/odsti/datasets/tree/regalton/galtons_heights)."
   ]
  },
  {
   "cell_type": "markdown",
   "id": "02da1324",
   "metadata": {},
   "source": [
    "## Reconstructing a dataframe\n",
    "\n",
    "First, here is the data frame that you are aiming to reconstruct.  Your task is\n",
    "to rebuild this table, including its data and column names, from the component data frames you will see further below."
   ]
  },
  {
   "cell_type": "code",
   "execution_count": null,
   "id": "fae38c37",
   "metadata": {},
   "outputs": [],
   "source": [
    "# Data frame you are aiming to reconstruct.\n",
    "combined = pd.read_csv('galton_combined.csv')\n",
    "combined.head()"
   ]
  },
  {
   "cell_type": "markdown",
   "id": "e30e7146",
   "metadata": {},
   "source": [
    "As you can see, this combined data frame has one row per adult child, along\n",
    "with their parents heights, and a unique identifier for the family, in the\n",
    "`family` column.  We will come onto `midparentHeight` later.\n",
    "\n",
    "The components you will be using to reconstruct the `combined` data frame are the following data frames:"
   ]
  },
  {
   "cell_type": "code",
   "execution_count": null,
   "id": "887ca143",
   "metadata": {},
   "outputs": [],
   "source": [
    "# Data frame with data about families.\n",
    "families = pd.read_csv('galton_families.csv')\n",
    "families.head()"
   ]
  },
  {
   "cell_type": "markdown",
   "id": "5463d6d4",
   "metadata": {},
   "source": [
    "This data frame has information about the families, but no information about the children.  Next:"
   ]
  },
  {
   "cell_type": "code",
   "execution_count": null,
   "id": "d811a00d",
   "metadata": {},
   "outputs": [],
   "source": [
    "# Data frame with data about the children.\n",
    "children = pd.read_csv('galton_children.csv')\n",
    "children.head()"
   ]
  },
  {
   "cell_type": "markdown",
   "id": "5e0945e2",
   "metadata": {},
   "source": [
    "## Mid-parent height\n",
    "\n",
    "Galton wanted to predict the height of the adult children from the heights of\n",
    "the parents.  He wanted one number to encapsulate the height of both parents,\n",
    "and this number is `midparentHeight` in the `combined` data frame.\n",
    "\n",
    "Women are not as tall as men, on average.  To adjust for this, Galton\n",
    "multiplied the mother's height by 1.08 before averaging with the father's\n",
    "height, to give `midparentHeight`."
   ]
  },
  {
   "cell_type": "markdown",
   "id": "fa24c741",
   "metadata": {},
   "source": [
    "## Ready, set\n",
    "\n",
    "To recap — your task is to reconstruct the data of the `combined` data frame,\n",
    "using the data from the `families` and `children` data frames.  Call the reconstructed data frame `reconstructed`.\n",
    "\n",
    "Try to get the values in `reconstructed` to match `combined` as well as you\n",
    "can.  Rename the columns to match the columns of `combined`.\n",
    "\n",
    "You will all but certainly find yourself using the `groupby` and `merge` methods from the links above.\n",
    "\n",
    "Good luck!"
   ]
  },
  {
   "cell_type": "code",
   "execution_count": null,
   "id": "66ca9d48",
   "metadata": {},
   "outputs": [],
   "source": [
    "#- Calculate midparentHeight, insert into \"families\"\n",
    "...\n",
    "# Show the result.\n",
    "families"
   ]
  },
  {
   "cell_type": "code",
   "execution_count": null,
   "id": "6e8a0f9a",
   "metadata": {},
   "outputs": [],
   "source": [
    "#- Use \"groupby\" to make a Series with counts of children per family.\n",
    "#- Set the Series name to \"children\"\n",
    "child_counts = ...\n",
    "# Show the result.\n",
    "child_counts"
   ]
  },
  {
   "cell_type": "code",
   "execution_count": null,
   "id": "3cc041d6",
   "metadata": {},
   "outputs": [],
   "source": [
    "#- Merge child_counts into families\n",
    "...\n",
    "# Show the result.\n",
    "families_with_counts"
   ]
  },
  {
   "cell_type": "markdown",
   "id": "e930ffa7",
   "metadata": {},
   "source": [
    "If you got a merge error, make sure you used `groupby` to create your\n",
    "`child_counts` in the cell further up."
   ]
  },
  {
   "cell_type": "code",
   "execution_count": null,
   "id": "7b42aed1",
   "metadata": {},
   "outputs": [],
   "source": [
    "#- Merge children into families.\n",
    "reconstructed = ...\n",
    "# Show the result\n",
    "reconstructed"
   ]
  },
  {
   "cell_type": "code",
   "execution_count": null,
   "id": "502eb9e8",
   "metadata": {},
   "outputs": [],
   "source": [
    "#- Make sure the columns are in the right order.\n",
    "#- Make sure the columns have the right names\n",
    "...\n",
    "# Show the result\n",
    "reconstructed"
   ]
  },
  {
   "cell_type": "markdown",
   "id": "f102eb88",
   "metadata": {},
   "source": [
    "Run the cell below.  It tests that the data frames are very close, after you have sorted them in the same way, and taking into account tiny differences from calculation precision errors."
   ]
  },
  {
   "cell_type": "code",
   "execution_count": null,
   "id": "7153b2c4",
   "metadata": {},
   "outputs": [],
   "source": [
    "# Run this cell.  It tests that the data frames are very close.\n",
    "\n",
    "def cmp_galtons(df1, df2):\n",
    "    # Compare the two data frames\n",
    "    # Sort in the same way, and reset index to match sort order.\n",
    "    sort_keys = ['family', 'childNum']\n",
    "    df1 = df1.sort_values(sort_keys).reset_index(drop=True)\n",
    "    df2 = df2.sort_values(sort_keys).reset_index(drop=True)\n",
    "    calc_col = 'midparentHeight'\n",
    "    if not np.allclose(df1[calc_col], df2[calc_col]):\n",
    "        print(calc_col, 'seems to be off')\n",
    "        return\n",
    "    if not df1.drop(calc_col, axis='columns').equals(\n",
    "        df2.drop(calc_col, axis='columns')):\n",
    "        print('Somewhere else seems to be off')\n",
    "        return\n",
    "    print('Result!')\n",
    "\n",
    "# Run the comparison.\n",
    "# You should see \"Result!\"\n",
    "cmp_galtons(combined, reconstructed)"
   ]
  },
  {
   "cell_type": "markdown",
   "id": "3f156a97",
   "metadata": {},
   "source": [
    "Here's a test to check that is the result you see:"
   ]
  },
  {
   "cell_type": "code",
   "execution_count": null,
   "id": "8f9d7fcf",
   "metadata": {},
   "outputs": [],
   "source": [
    "_ = ok.grade('q_01_cmp_galtons')"
   ]
  },
  {
   "cell_type": "markdown",
   "id": "c3e85e6c",
   "metadata": {},
   "source": [
    "## Done\n",
    "\n",
    "You're finished with the assignment!  Be sure to...\n",
    "\n",
    "- **run all the tests** (the next cell has a shortcut for that),\n",
    "- **Save and Checkpoint** from the \"File\" menu.\n",
    "- Finally, **restart** the kernel for this notebook, and **run all the cells**,\n",
    "  to check that the notebook still works without errors.  Use the\n",
    "  \"Kernel\" menu, and choose \"Restart and run all\".  If you find any\n",
    "  problems, go back and fix them, save the notebook, and restart / run\n",
    "  all again, before submitting.  When you do this, you make sure that\n",
    "  we, your humble markers, will be able to mark your notebook."
   ]
  },
  {
   "cell_type": "code",
   "execution_count": null,
   "id": "16999765",
   "metadata": {},
   "outputs": [],
   "source": [
    "# For your convenience, you can run this cell to run all the tests at once!\n",
    "import os\n",
    "_ = [ok.grade(q[:-3]) for q in os.listdir(\"tests\") if q.startswith('q')]"
   ]
  }
 ],
 "metadata": {
  "jupytext": {
   "notebook_metadata_filter": "all,-language_info",
   "split_at_heading": true,
   "text_representation": {
    "extension": ".Rmd",
    "format_name": "rmarkdown",
    "format_version": "1.2",
    "jupytext_version": "1.14.1"
   }
  },
  "kernelspec": {
   "display_name": "Python 3 (ipykernel)",
   "language": "python",
   "name": "python3"
  }
 },
 "nbformat": 4,
 "nbformat_minor": 5
}
